{
  "nbformat": 4,
  "nbformat_minor": 0,
  "metadata": {
    "colab": {
      "name": "Task1-irisdataset",
      "provenance": [],
      "authorship_tag": "ABX9TyMMGUrE4Vd+OKWldP7aqIo4",
      "include_colab_link": true
    },
    "kernelspec": {
      "name": "python3",
      "display_name": "Python 3"
    },
    "language_info": {
      "name": "python"
    }
  },
  "cells": [
    {
      "cell_type": "markdown",
      "metadata": {
        "id": "view-in-github",
        "colab_type": "text"
      },
      "source": [
        "<a href=\"https://colab.research.google.com/github/shruthivenky/Irisdataset-task1/blob/main/Task1_irisdataset.ipynb\" target=\"_parent\"><img src=\"https://colab.research.google.com/assets/colab-badge.svg\" alt=\"Open In Colab\"/></a>"
      ]
    },
    {
      "cell_type": "markdown",
      "metadata": {
        "id": "ZpFOmnlGaYXU"
      },
      "source": [
        "#**Lets Grow More**\n",
        "![letsgrowmore.jpg](data:image/jpeg;base64,/9j/4AAQSkZJRgABAQAAAQABAAD/2wBDAAgGBgcGBQgHBwcJCQgKDBQNDAsLDBkSEw8UHRofHh0aHBwgJC4nICIsIxwcKDcpLDAxNDQ0Hyc5PTgyPC4zNDL/2wBDAQkJCQwLDBgNDRgyIRwhMjIyMjIyMjIyMjIyMjIyMjIyMjIyMjIyMjIyMjIyMjIyMjIyMjIyMjIyMjIyMjIyMjL/wAARCAI1AqYDASIAAhEBAxEB/8QAHwAAAQUBAQEBAQEAAAAAAAAAAAECAwQFBgcICQoL/8QAtRAAAgEDAwIEAwUFBAQAAAF9AQIDAAQRBRIhMUEGE1FhByJxFDKBkaEII0KxwRVS0fAkM2JyggkKFhcYGRolJicoKSo0NTY3ODk6Q0RFRkdISUpTVFVWV1hZWmNkZWZnaGlqc3R1dnd4eXqDhIWGh4iJipKTlJWWl5iZmqKjpKWmp6ipqrKztLW2t7i5usLDxMXGx8jJytLT1NXW19jZ2uHi4+Tl5ufo6erx8vP09fb3+Pn6/8QAHwEAAwEBAQEBAQEBAQAAAAAAAAECAwQFBgcICQoL/8QAtREAAgECBAQDBAcFBAQAAQJ3AAECAxEEBSExBhJBUQdhcRMiMoEIFEKRobHBCSMzUvAVYnLRChYkNOEl8RcYGRomJygpKjU2Nzg5OkNERUZHSElKU1RVVldYWVpjZGVmZ2hpanN0dXZ3eHl6goOEhYaHiImKkpOUlZaXmJmaoqOkpaanqKmqsrO0tba3uLm6wsPExcbHyMnK0tPU1dbX2Nna4uPk5ebn6Onq8vP09fb3+Pn6/9oADAMBAAIRAxEAPwDxGiiigAooooAKKKKAFFOpop1ABRRRQAUUUUAFGaKb3oAfnNFIKWgAooooAKKKKAHg8UtNHSndqACiiigAooooATFKKKBQAtFFFABRRRQAUUUUAOFFAooAKKKKACiiigApQaQ0CgB1FFFABRRRQAUUUUAKKdTRTqACiiigAooooAKQUtIKAHClpBS0AFFFFABRRRQAUoNJQOtADqKKKACiiigAooooAKdmm04UALRRRQAUUUUAFFFFACd6UUnelFADqKKKACiiimAUUUUAY1FFFIAooooAKKKKAClHSkpw6UAFLRRQAUUUUAFN706m96AHClpBS0AFFFFABRRRQAopwpop9ABRRRQAUUUUAFAoooAWiiigAooooAKKKKAAdadTR1p1ABRRRQAUUUUAFOFNpc0ALRRRQAUUUUAFFFFACinU3NKOlAC0UUUAFFFFABRRRQAopaQUtABRRRQAUUUUAFA60UDrQA6igUUAFFFFABRRRQAUopKUUAOFFAooAKKKKACiiigBO9KKTFOHWgBaKKKACiiimAUUUUAYopabTqQBRRRQAUUUUAFOHSm0ooAdRRRQAUUUUAFJS0UAApaQUtABRRRQAUUUUAKKfUY608UALRRRQAUUUUAFFFIe1ADhRTRTqACiiigAooo7UAA606m96cKACiiigAooooAKKKKAHUUgpaACiiigAooooAKcOlNpw6UALRRRQAUUUUAFFFFACilptKKAFooooAKKKKACiiigBwopBS0AFFFFABRRRQAUopKUUAOFFAooAKKKKACiiigApR1pKUdaAFooooAKKKKYBRRRQBiU6m06kAUUUUAFFFFABQKKKAHA0tIKWgAooooAKKKKAAUtIKWgAooooAKKKKAAU8daZTh1oAdRRRQAUUUUAFIe1LSHtQACnU0U6gAooooAKKKKAClBpKUUALRRRQAUUUUAFFFFACilpBS0AFFFFABRRRQAU4Him0ooAdRRRQAUUUUAFFFFABSikpRQAtFFFABRRRQAUUUUAKKWkFLQAUUUUAFFFFABSikoFADxRQKKACiiigAooooAKBRRQA6ikBFLQAUUUUwCiiigDEp1NpRSAWiiigAooooAKKKKAHClpBS0AFFFFABRRRQAClpKWgAooooAKKKKADvSr1pKVetAD6KKKACiiigApD2paMZoAQU6kxS0AFFFFABRRRQAUopKUUALRRRQAUUUUAFFFFACilpop1ABRRRQAUUUUAFAooHWgB1LRRQAUUUUAFFFFABSikpRQAtFFFABRRRQAUUUh6UAOFLTAaeOlABRRRQAUUUUAFAoooAcOlLSL0paACiiigAooooAKQ9KWkPSgAFPpgp9ABRRRTAKKKKAMSlFJSikAtFFFABRRRQAUUUUAOFLSCloAKKKKACiiigAzilBpppRQAtFFFABRRRQAUo60lA60APzS00U6gAooooAKKKKAClpKWgAooooAKKKKAClFJRQA6igdKKACiiigAooooABTqQUtABRRRQAUUUUAFA60UCgB9FJS0AFFFFABRRRQAhpwIprUCgB9FFFABRRRQAUHpRRQAgp46U2nDpQAUUUUAFFFFABRRRQAoOKdmmU4UALRRRQAUUUUAFIelLSHpQACn0wU+gAooopgFFFFAGJSikopAOooBooAKKKKACiiigBwpaaDTqACiiigAooooAQ0opDSigBaKKKACiiigAooooAcKdTVp1ABRRRQAUUUUAFLSUbqAFooooAKKKKACiiigBw6UUgpaACiiigAooooAKUUlKDQAtFFFABRRRQAUUUUAKOtOpgPNOzQAtFFFABRRRQAUUUUAFOptOoAKKKKACiiigApRSUooAWijtRQAUUUUAFFFFABThTacKAFooooAKKKKACkPSloNACCn02nUAFFFFMAooooAxKKKKQCilpBS0AFFFFABRRRQAo606mU4UALRRRQAUUUUAIaUUUUALRRRQAUUUUAFFFFADlp1MFPHSgAooooAKKKKACminU0UAOFLSCloAKKKKACiiigBRS9qbTqACiiigAooooAKKKKAHCigUUAFFFFABRRRQAg604dKSlHSgB1FFFABRRRQAUUUhoAWnU2nUAFFFFABRRRQAUUUUAOooooAKKKKACiiigApwptOFAC0UUUAFFFFABRRRQAU6m0ooAWiiimAUUUUAYlFFIetIBwNLTRTqACiiigAooooAKcDTaUUAOooooAKKKKACiiigBaKKKACiiigAooooAUGnjpUYp46UALRRRQAUUUUAFNFOpooAcKWkFLQAUUUUAFFFFABTqbTqACiiigAooooAKKKKAHCigUUAFFFFABRRRQAUo6UlKOlADqKKKACiiigApDS0HpQAgNPpgp9ABRRRQAUUUUAFFFFADqKKKACiiigAooooAKUGko70AOzS0lKKACiiigAooooAKM0UlADgc0tIKWmAUUUUAYlIetLRSABTqaKdQAUUUUAFFFFABSikpRQA6iiigAooooAKKKKAFFBpoNOoAKKKKACiiigApw6U2njpQACloxRQAUUUUAFNFOpMUAKKWkFLQAUUUUAFFFFABTqbSg0ALRRRQAUUUUAFIaWigBRS0gFLQAUUUUAFFFFABSjpSUo6UAOooooAKKKKACiiigBBTh0popw6UALRRRQAUUUUAFFFFADqKQGloAKKKKACiiigAo70UUAOpRSCloAKKKKACiiigApKWkoAcKWkFLTAKKKKAMSiiikAU6m0ooAWig0UAFFFFABSikoFAD6KB0ooAKKKKACiiigBBThTRThQAUUUUAFFFFABTh0FNpwoAd2opBS0AFFFFABRRRQAClpBS0AFFFFABRRRQAUo60lKOtAC0UUUAFFFFABRRRQAoNLTadQAUUUUAFFFFABSg0lFAD6KB0ooAKKKKACiijtQAgpw6UwU9elAC0UUUAFFFFABRRSGgBQadTF608UAFFFFABRRRQAUUUUAOFLTRThQAUUUUAFFFFABSUtJQA4UtIKWmAUUUUAYlFFFIApQaSgUAOooooAKKKKACiiigBwNLTRTqACiiigAooooAQU4U0U4UAFFFFABRRRQAUoNJQOtADxS0gpaACiiigAooooAQnBpQaQ9aBQA6iiigAooooAKBRRQA4UUA0UAFFFFABRRRQAU6m06gAooooAKKKKACiiigB46UUg6UtABRRRQAUUUUAJilHFFFADhRSCloAKKKKACiiigA6UopKUUALRRRQAUUUUAFFFFACinCminCgAooooAKKKKACjFFFACilpBS0wCiiigDEooopAFAooFADqKKKACiiigAooooABThTRThQAtFFFABRRRQAUopKKAFooooAKKKKAClFJRQA8UtNWnUAFFFFABRRRQAh60Cg9aBQA6iiigAooooAKKKKAFFLSCloAKKKKACiiikAUoptOFFwQtFFFMAooooAKKKKAHClpop1ABRRRQAUUUUAFFFITzQA4UtIKWgAooooAKKKKAClFJSigBaKKKACiiigAooooAUU4UynDpQAtFJS0AFFFFABRRRQAopaYTilBNADqKKKYGJRRRSAKBRQKAHUUUUAFFFFABRRRQACnCminCgBaKKKACiiigAoziikNADs0UgpaACiiigAooooActOpq06gAooooAKKKKAEPWgUHrQKAHUUUUAFFFFABRRRQAopaQUtABRRRQtwCjIBwaEUMCoBZu1abaDqCaf9se3IiH8WKiVVRdh2Ms8UoNN6jOeKcKpO+onoOooFFMAooooAKKKKAFFKKQUooAWiiigAooooAKQjmlooAUUtIKWgAooooAKKKKAClFJSigBaKKKACiiigAooooAKcOlNpy9KAFooooAKKKKACiiigBDQKDQKAH0UUUwMSiiikAUUUmSeMGmguhwpabuwPf0p3bPP5UrSAKKTJ9OPrS4OMjpU3KtYKKKPWqXmT1CnCmA08Gh6aA11FrrPhtpVrrHiuG1vF3xt2rks13fwiB/wCE7tQT0BP86APX/FHw80Cx8OXtxBaBXjjJBxXzLwC/HDMcV9jeNVP/AAh2onJ/1RNfHLfKT6BjQAGkGM5NL1/KrWmWFzqt7HaWkZeZ2xgDOBQBXOBg8+1J0OMc+1e/+GvgppsdnHNqbyPKy7mQ9BXQN8JvCU0eI4SrHjIPSgD5g5B6lR3qeytzeXtvbbtglfbkivS/HXwmn0CJ7/TS00GfmX0FSfCvwNZeJA17PIQ9s4wD60AacXwJMlpHc/b+Nm/GPavIdUs203ULiyB3mNsZr7SjgUWS23OxV2Z9RXl3iH4QaQ8d/qfmyNJsaTGe+KAPnUAgkE4p2D7fia3vDfha78Sa5/ZtoD5aOQzntzXuOk/BrQLSAfbwZZQPmJ6UAfN4OOTj8DSjOTzX07N8JfCU0eIolU9iCK8h+JfgrTfCd1H9kuGd25MZHSgDgPzpaZ5hJwTT6ACiiigBaKKKACiiigAooooAKcPu02ndqTAEjeQ7VUsT6V0Wj+DtS1VhshaNP77CsrTNQ/s66WbyVlAPINer+E/F8Wsv9nFssZVeQorixVWdODcTqw9OFSSTJdF8DabpUPmXAWSUdSegrcubS1v9MltU2GIjAC+tc38QtYfT9Nht4JCrz/McHoKPh4bl9Ga4mZiCxI3d68xubgqkz0VCHM4xPLdY05tN1Ka3YYCt8oqiBXp3xI0AOi6nAnzD74rzHJ444Nezh6irRTXQ8zEU+WWopooOQcEUYIPIrqbRz3CiiipAKKKKAFFKKQUtAC0UmaM0WAWikzSBsnoaLIVkOpDS0UDAU6minUAFFFFABRRRQAhoFBGaAKAH0UUUAFFFFABRRRQAUopKUUAOopBS0AFFFFABRRRQAhoFBoFAD6KKKYGJRSDil+8QoBLHoB3pOy0HbsB6VastMvNSkWO3gkkJ7AV3Hgz4bXmtMtxeKYoDg4PpXtWkeG9M0WBIrS2Xcv3nIrycVmdOi+Vbm0KHNueMaP8ACTV70LJOfIU9j1rqLX4NWUZH2m5kc+3SvVg2eO1IeteJUzetJ6aHZGhBbnnf/Co9CCYzJu9azb34M2UgzbXUiH36V6qfwpCKxjmtdO9xulFngeq/CXVLGNntnWdV7DrXD3unXdhKUuYWQg45FfWIHzc9Kx9X8O6brMbxXNsvzDAcCvSw+cXdqhlUw+mh8t+/anCu58Y/D280GR5rQGW2Y9B2FcN0Y5G3Pavfp1Y1VzI4nTcdxa7z4Rf8j5b/AE/xrg+td38Ix/xXdt9P8a2JPo3xt/yJuo/9cTXxw/8AF9T/ADr7H8Zq8nhHUERSWMBAAr5BbT74lgLWbJJz8p9aAKueDj0r2z4EaHbzNc6lMis8fAyOleOjTL4OD9lmDemw17j8CL5UgvbCXCTKeVPFAHZ/EFvET6YIPD9tI8jdWU4ry6w0b4nadepcNFcsm4FkZgRj869d8b61q2gacLrTbUTkDkY6V5UfjbrZkEf9mMXBwQF70Ae128UupeH1i1GHbJJHh1PrXzmdY1Lwn45n0zTpPLgNzgqO4zXZ6h8VfFGm2Ed1caTsik6MRXlEusSa34yTUJxhpbgOQPrQB9dQvIdHjlLfMYQ344r5k8SfELxCmrahZC8Ih8woF9q+mbVidFiA5zbqR/3zXyN4osrhPFOojyj/AK04oA9I+BM8J1K98xgJ35H1r03x5o+tazpaRaPcm3kB+bnBNfNHhl9ah1VZ9G3G4jOSo9q9OtPjTrGnsYdU00lk4bjvSAz5/D/xF0JhJ5s06gZ+9muD8S6lrOp6gr6yXSVBgKwr6O8GfEWy8YsYVt5IpQOQw4rmfjV4fszoa6kkKpOpwSO9MD575bBI5NPpBwAx5zS0AFFFFAC0UCigAooooAKKKKACnU2lFFgQvPODXq3w002OGwkvXXDOcA15dbxNPcRxL1ZgK9uiEegeEiehSLj6mvOx0mrRXU7cJHVy7HnfjS8bV/ExtkPEbhFHtmvSIvK0DwuCoAMUW7Hqa828IWR1rxW9zLyobdmur+JOpiz0xbJD8z9h6Vz1I8zjTOmEuW8yg/xCtb+zltb+3+WRSFNcK+l3EsryWttI0LNlazjkYyegr3DwZGj+HbUsqZx6V01GsNC8TBfv5WZ5B/Y+oc5tZOeRxUNxY3VoAZ4XUHua+hRGm4jan5VjeItGg1bSJoxGvmKDtwO9c1LMVKdmazwLUbo8Lop89vJb3EkM67WjbAzTMYr2FJNaHmyi1uFFFFNEiil47mmd6UEDr0oeg0rkiqZDtjGTVoaTfEZ+yyflXT+BNAa9uTeyJiNOma9SWOMDAROP9mvNxGNVN2O+hg+dXZ4MdIvyQPssn5VVlheCTy5UdG9DX0IUjOMIv4CvH/HWF8RsAMfL/WjDYr2zsGIwqpK5zVFFFekeeFOptKKAFooooAKKKKACiiigB1FIKU0AFFFFABRRRQAUCigUAOFLSCloAKKKKACiiigBDSiiigB1FFFMDDJHXt3r074a+Am1WVdSvlKwJyoI61yHhPQ217XYLXaSpIL8e9fTum6fHpunx2cKBUQYNeLmeM9hDlW50UIXJooo7eBI41CoBgYo/l3p7HBwBx2Fcl408aW/hi0KxFZLthwmelfL0qVTEy03Z2uSgjobzUbTT4S9zPHGBzgntXG3/wAVtCtXaNC0rD0rxPW/E+o61cu9xcyfN/CDwKyAx43DmvocNkcYxvVZySxDPbj8ZNN8zH2V9vrWpYfFTQ7xwjlos/3q+fOS2c0dGLD71dbyqi1ZImOJdz6zs9Rs7+ISW06SAjIANTdx2PpXzBofinUdEukkgnfYvLKTxXrI+KthL4eNy2Ptm3AUeteTiMnqRlaB0rEo3/GfiPTtG0yVLnbJMw+VDXzlcTLPcu6rgMSRV3W9cu9d1B7m4kY55AJ4xWYuN2a97B4SNCC11OStNTd0PHFdt8KriK28a2807iNAOrGuJojleJw6FlYdwa7TE+0G1/R5Fw99bMvTBcc1XF/4YA5ksPyWvj4Xd11+0S/i5o+13DdbiX/vo0rgfYDah4abOZbHA54Va+d9W8TSeHPiVfX9hg25mHypgAiuHF9ccobmYDPZzULM0js5LMx7k0XA+qvDvxK8P6/bIk9zHHKygNHJ0zWmbXwp5v2nFkT13cV8hq7xMGUlWx1BxVkajer8pu59p7bzTA+gfiN4z8LDRZdN/d3EpXEYToDj2r56Evk3IlhHllW3AGoy7F8t8xPdjk0xlycl8+9AH0z8P/iJpuraHDaXlykdzEgQ7jjNdFfJ4UkSSadrI7h97IzXyMjtG2UkKN6qcVO99eSAIbiYpjBG8mldDsz17wTrfhXw54u1ETzIfNc+WewGa9Vli8I6yPNf7FLu5zkCvkPBDZIz7nrVqG9uI0KxXMw9g5pqz2Cx9YQy+FPDkbSQyWsTd9jDNeOfFH4hw+IWGnWGfsyHlvWvM5Lu4lGJZ5W/3nqHJXOBwfWlcQY2j1ozR9KCOMimAZoJpBwOaDQAoNOpi08UAFFFFABRRRmgAoB9aKVeQ3r2pSlZAldnT+B9MOo6/GSvyRHJrsviRqq22lJZRnDyHp9Kb8NNLa3sZb2T/lp0+grlvFt2db8WLFFyqvsAFeU37Ss2+h6SXs6PL3Or+HGlm00t7uQYaQ5GfSuO8d6mb/xBKFO5I/lFenTNFoXhIbiA0cePxxXh1zMZbuWVzkuc1WFhz1XNk15ctNQIwT1PpXuXgs/8U5a9OleG54r3LwV/yLlr/u080+DQnL/j1OhA+Zj700g4wKd3P1pMjrmvnE7anvvseWfELQGhuf7RiH7tvvgDpXA84Br6E1Owh1HT57eUZ3qcZ7GvCNU0+XTtQlt5ARtY4z6V9JgMQpQseFjqLi7lM8GignpRXpbnniEYq1p9m9/exW6KTuNVyQAvqTXo/wAPdAKo2oTr0PyZFcuKr+ygdOHpe0mdno2mx6Xpsduow2PmrQx6cUMckk9W6UvavmqknUfMfRU4qKsNPFePePP+Rkb/AHa9iPSvHfHn/IyN/u/1ruy1WmcOYfCczRRRX0J4QUuKQkDrS9s9PrQAtFH45opcyHZhRSZHrR3ougsAPNLSUtMQoNLTRTqACiigEHpQAUUZozQAUCijvQA4UE0dKUA4z2oAKKKCcUrodmFFJketKCD0ouKwUUdaO9MB1FFFMD1P4N6ILfT5tVlj3SOcITXrPueprnfA1gbDwvaxkY3DJFdCPU18JmFb2tZnpUo8qMzX9WTRtImu5MZRTivmHXtXn1rUJru4kY7m+UZ7V638ZdZeGxgsEOPM5avD85ODX0GT4VRp83c56076CDGSadnNNJ5xSgnpXtvVnKh1H406GGaYErGxHqBUhs5wf9U5/wCA1m5xbtcpK60IQce9IOASvT0qf7JMOkMn/fNJ9lnH/LJ/++aSku4KLIcAijFWPslx/wA8ZP8AvmkNpcngRSA/7tXzLuh8rIhxWho2jXGtXiWtsNzn1qjJFJHhWUq3uK7X4X8eKo+/FY16jp03JFQSbsH/AArDXgMmJcfWqt98O9Z06ykuplGxBnrX0ORxgcA9ayfEtrLfaBcW8S5kfj8K8GlmsnOz2OyWFXJdHzXZ2FzqE4gt4jJJnGAK73RvhRfXah7uTylP6V6N4S8JWuh2SymFWuW+8e9dKeFI7+lXis2lflpjp4VW1PLX+D9sE+S+Zm7ccVxPibwZd+GgHmkDo54r6FJKquR9a8a+LGpNNqcNkpz5XLYqsBjK1WTjImvRjCN0eb5AIwcA962tE8LalrsmLeAhc/fPStbwV4Pl8QXgkkQi2U5JNe5afpttplosFsgVVGOO9dWMzBUVaO5nh6DlqzgtJ+FljBCragxdz1UV0UPgTQrcDbZhvrXSdeh496MgeteJLG4ipqj0FQgtzmZ/A2hzKf8ARAh9q5/VPhZY3EZeyYxy9hXouWHYj3ppYjn7x9elEMbXp6tjdGD2R87a34X1LRJCLiLcn98CsQ/NwOfevpm+soNQgMFzEGRu5rxXxp4Sk0K+M8Kk2r5xjtXuYLHxrPU4cRhuTY5rT9Pm1S8S1t/vPxXUH4ba2BgItc3pF42narbXAJG1x09K+jLC6W8sYLhGyJFzTxuJqUVzIVClGWjPF/8AhW2tZXMSnn1rnNV0q50m8e2uhsccj3r6SzlgePSvKfipphWaC8A6jaTWWCzCdSfLIuvhY01dHmadTThjJ5pMY5Bqa2iM9xFEoyztgV68pWTkefFNysb2l+C9U1e0WeCMbCMgmrp+HOtDgxr+det6BZ/YNEtoRwVQAitNgMA14NXMpqdkerHBxcdTwPU/BmraVaG4njHlj0rniSxBwAK+iNfsjf6NcQdcoSBXz3cxeRcTR4wUYgivRwmJdZHLiaKpbEdSwRGa5SIZ3MQAKi7j3FdN4G077f4gjZlykfJrpryUVzGFKHO7HqDbNC8GgLhSsXX3rzvwTZ/2p4oM7AsoYsT9a6b4makILGOyRuW5IFWfh5py2GivdSLhpRkGvKi3GnKXVnoSXPOK7FP4n6j5NnDZRNgt94V5WBnknNdF4z1E6hr8rbsxpwK54fdHrXo4aFqSbOLEzvN2Djaa9y8F8eHbX/drwwivc/Bf/It259AK5cz/AISOjAfEb5OMn0oGCNoxkckUdN2elcvqutNpXie2Rm/dTDHNeFGn7TY9qU+R6nUEkcgZrg/iDoH2q3F/CuHT72O9d1kMu9DlWGRTJ4UuImjmXKsuCK2w9R0qlmZVqcakD51J446CkHNbvirRG0bVni24icllNYaqxwqLuLHAxX0tKqpR5jwKkeR8qNTQdKfV9VihUZVSCxr3G0t0s7WK3jUBEXnHc1y/gfQl07TxcSKBLIM8116jGa8PMK3POyPWwVHljdidixwB29qQdOuRWB4p1ddM08oH/fOcACtPTnY6dCxOS6gnNcbpNK7O5TWyLnX6V4947/5GNv8Adr2Lo2O2a8d8ef8AIxt/u125b8Zx5h8BzNIQT0pCTsJHXtVzTtPl1O/W2hzzjJr6CbUY3Z4cE5SsiK0s576QR2qFmJxn0rttL+H7uqSXz9f4RXYaH4dtdHtkXyw0xGWNbPfkYxXi4jH62TPYoYCNuaRzsHg3R4QCId596nPhfSXOPsirW0BgkAgmk2sT0Oa4frFXdM7vY0lpynMXfgfTJY2CLsc9MVxuseCr3TgXh/exe3UCvWsZ5J/OmMAwIYZBHStaWPnF2ZlVwMJrTQ8DdWjOxhg+hpmT0xXpPi/wnHNC17aLtZRlgK832kMc5yO1e5hsQqqueJicN7J6EkELXNwsUYGSa6JfBGqbNwQc1iaVg6nb8AfOK9yj/wBUn0Fc2LxEqb903wdBVNzyk+CdVSMsUXA5rnzbuk8kJQmUNjAr3WXPlMB3Brl9E8NR293PfXS75Hb5Qe1ZUsc+X3jqrYC0koHKaX4Kvr9FldvLQ1tp8OYO9yS1dwAEG1OAO1O+4ec81yzx1Tm906IZfSirSPK9Z8FXGmxNcJIDGtcuDkkEc+ten+PbwwaYsCnlzzzXmUYZ5FRFJYnAr1MPVlKHNI8vE0oxlaIkSO77FUuxrq9I8FXd6qyTEpGea3fC3hRLSAXd2oLvyBXY4CqEUgL6VyV8byq0Tsw2ATXMznLXwZptuo3p5hHf1q23hnSyMC1A9618BPQD3phuIsn51+gauH29WWtzv9jRjpYwLjwdpcyHauw+1crq/gq5tMy2h3p6V6VgMuc4B96FAYc847VdPGTi7MznhKc1eKPC5IpLeUpIpDDqKTOTkV6T4p8OR3du95bJ+8XlgK84dSjMpGMcYr2sPiFNHi4jDuDFopoJorpOU+odHAXSLQDptq2zDafbpWX4ZuRc6BZupyCvWtTtg9K/PMUkq1j06b0PC/jMzHWbfnpGOK8tHXNevfGqyIu7W7UErjaTXkR9q+zy5/uFY4q3xDT1paQ9aUV3J21Mj274S6dZXeiyPPbJI2cZYV6F/YmlDg2MOf8AdrhfhJNHF4ekV3UHd3NeifaID/y1Qf8AAq+Ux06qrvkuejQhC2pUbRNK/wCfGL/vmm/2HpYP/HjD/wB81cNzCOfNT/vqka6gGCZUJP8AtV57qYi+tza0L2Kv9iaZj/jyh/75pp0XTeD9ih/75rQ3ZUMuCKCAT0qViaqlZ3KdJWPEvi1plvZXlu9vEsYdSSFFZXwv/wCRpj+ldH8Y3X7RaJ32muc+GH/I0J9K+njJywt2cCXLUPoDvTSSDz0pxpjEYJPQV8s6blOyPUjtchubuGztmnmcRooySTXFX/xR0azmMaAyN3K1x3xI8WTXl+dPtnKxx8Ng9a84XO4k5OfWvosJlilFTmcFXEtOyPdIPino9xnzFZD2zXleqzy+JPFjvDkiZ8D6Vz55B5xXafDeyF54njYjIj5rt+rwoJziZ+0c3Y9m0DSY9I0aC2jUBtnzkVpnGBtzgU4DLEdKgurkWlrLcN92NSa+ZqXq1bHpU0oQuZHiPxPaeHrQvO6tKfuqK8s1H4n6pdXBNuRGnY1z/ifWZda1e4kaRtgYhVzWJuz26V9FhcFCMFzI86tXk3ozu7D4oavbyjzyJI888V6h4c8U2PiG3DQNiYD5kNfOhyQSDjPatnwxq02karbyxOUVmwwzTxWApuN0hUMRLms2fRjnjaBx3rO17TI9V0ma2kUHK/L7Gr1rOt1aRTLyJFBzUnROedpr5+nJ0qmh6jSmj5mv7d7G+mt3BDRkjBr2f4d6mLzw5HETl4hjFeffEe0W08Sb0UAS8mtD4X6kttrElq74SQfKDXvYmPtcNc86nLkqNHsRAA49a5P4h6f9t8NysBkxnIrq3ztHsc1W1KFbrTbiFlyGU4rwsPPlqqR6VSKnE+ZthB255rp/Aul/bvEcO4ZSM5rB1G2Nrqc0TDBVzivTvhfpnl2s1668t9019Liq3LR5jyqMP3tj0YrtUY6DilLZUUYy/J4xmoRcQmd4Q481f4a+Wac5cyPcjaKsSlgePUEV4R430/8As/X7g7dqv81e7EYNec/E/TA9nFfKvKnaxr0MrqOFRo48dD3bo8rPCgn0r1n4aaattp0l7InL9z2ryu1iN3cRwqD87gCvbrh4/DfgwjgMY+PrivWxkm4qK3Z5+FXvc/Q868TXLax4wMKtuTzAoHtmvSdSmj0DwngcbYwF9+K8/wDAdj/afiFryZdwQ559a2fiZqjCGKwVgMnJx2FYTSlOMF0OiOilM8zldpZJHbq5zSDpRzRXrRVlY8yTvqFe5eC/+Rag+grw2vcvBf8AyLUH0rzcz/hI78B8Rvsev1rzT4lsUurR14YdGr0phwa80+J2TLageleXgfjsejjHaNzovBGupqmmCKV/3sYxXTnLDHevC/DGrvpOqwybjsY4YV7hbXKXUKSoQQ4BzVY6g4S5kTg6vPGxz/jPQxq2lsyrmaMZB71594P8PTajqoZ1KxwNlwfWvZCm5iG5UjBFVbPS7ewdzEoUyHJxVU8Xy0+UqeFTnzFhUVI1RVwFOKJZVijklfhEGaew5KjoOa4zx3r32Gy+xxNiSXg47VhSpOtVLqyVKmcX4h1Y634jQITsR8AevNevWSbbKAeiCvBtLY/2nbq3LF8k+te+W/FrH/uiu/GR5IqJyYOTk22S9W/GvHfHn/IxN/u17EP8K8c8e/8AIwt/u1llnxmuY/AcuOgHavUvAGipb2P2yRf3j9M15lbRmWeOMDlnAr3fSrdbXTLeJRjCc/Wu/H1Wo6HDgKSci4Dg+9V7u7hsYWubhsIBwDVj3rzX4gay8t59iicqqDnFeNhaPtamp7GIrKnAdrHxBkaQx2KYAPWsqLxxqyPu8wEVzAG4AjrS9SOwr6GGFpxVrHgzxdRvRnqeh+NotSZbe5ASTpmutJwEIII7fSvAI2eKXfE5Uoc5Few+EtUOp6Mhc5kTANeVjsLye9E9PBYpz92RvOglDqwBjYYIryHxhpI03WWeMbYpOlevnkEL36Vx3xBtUk0uOcL8yHBNTgajjNF42kpQPOtKB/tO3/3xXuCH90n0rw/Sj/xMrcf7Qr3CP/VJ/uiujM31Rz5YP6DJ6U1ti5csAo6k9qc33RXHeN9caxgFlC2JH6kdq87D0nNnq1qqpxuaGo+L9PsWMZbc49KoxeP7CU7XVvxrzNmMjlpHLP70hxnkV7NPAwaVzw6mOm72Oi8Wa0mq3ymE/u1FT+CtIN7f/aZVzGnIrlQMuTg9MV6x4JtTbaKrlQC1VXaoxshYZSrTuzolABAx8oHA9KiurqK0t3uZMBVHGanIyaydf0l9XgEMcpjUdcV4dOzqe8e9P3KdkcFrni+8v52S3Yxxg8EVhHU77OftEgPrmuyPw+GeLmj/AIV96XNexCph4qx486OJm7mPo/iu6tbiNZ3aSMdc16ZZXkV7aLdQt8r1xZ+H4Ix9pxXTaHpb6VYfZ3mLgNkZrkxPsZK8Drw0a0ZWmajLlCpwQeCPWvKPFemnT9XYgYjk5WvWSvP61xHxAtx9mhnxyDU4Ccuew8fBOm2cAKKKK+gPnj274Uast94b+zs/zQcYrvSOAPfNfO/wv8RHSdcFtK2IpjjmvofcrgOjAgjIr4rNsM6Vdy6HbSlfQ5Xx9oY1nw5MqIGkTLCvmqWB7eSSF1IdGwc19esAU2kZBHIrxv4j+AZY5m1PTk3I3LqvWu/J8cl7kh1qN1c8hIGTigEZ5p7qY3KSAqw7Gmcehr6Xns7o8+zTLlvqN3aJtguZI164U1N/bmpnn7bN/wB9VQUZHUUg4yR09BSdJS95oqM5LS5of23qZ/5fZv8Avo1c0vUdWv76GBbqUs7gD5jWNGhchU+aQnhR1r134aeCZInGq3se04yiN61x4udKjTcmkb0lKTuel6RbPa6ZbxStucIM5PfFXycN9KG2K4NVby5jtbea5kYKqKTmvkbutV8j0buMdTxL4s6gt14gES/8sV6VU+GH/I0x/wC7XO+JNQOp69dXG7IZiB9K6P4YD/iqovda+sdLkwpwKV6h78en4VWvpPJ0+5k/uxkj8qsk5FU9TGdKvAf+eTY/KvlKa/fXPTk/cPmPVbprrVLmY9yapjBAIqS5Ja5mz/eIqNeBivuKT5YJHizV2DAYOa9I+ESK+szt/F5fFebnpXc/C28+zeJVUnCuCK58ZrRdjSg/fPdg3SsbxSzDw/d7M/cNbGdoPtVPUbY3unT238TqcV8lRly10evP4ND5hkY+eSRzuOaYOgrR1nTpdO1a4gk4ZXNZ9faQalFNHiTi0xR1BoiJV1YDnfxTc5FXdHspNQ1S2gjUtlxkUVZWhqEI3lofQvhhy/hyyJ67RWu2M46cc1U0+2FpY20AGAiAEe9WW5wfcV8dWleeh7tJWjqeN/FQL/bkQ6AJzXH6HetY6zbTK2AjDJ9q6j4m3KTeImQEEKuOK4YZVt3QjmvpsPHmoWZ5FV/vbn05Z3AurWGZTlXQGpyQw29q5TwDqf2/w9FuJJiGDXVEDflemM185Xp+zq6nr0Zc0LHh/jjSjB4oO0cSsMV6n4Z08ad4ftotuCRlqzvEugG/1zT7kDKhxurq1XYoQDAHyiurE4lTpKKZnRo8s7iPgfMTwBmvNLXxIW8fyfN+7kOwV3HiG7FhodxNuxhSK8Ct7qRNTW8DnPmbhn61tgMPzQbZGIruMj6Qz0I5HWsfxPpq6noFxBjnBYfWrmk3Qu9KgnByWQZq043IQehGCK4o3pVTqf7ynqeIeDNGkuvEio4PlwNzXUfE7VFjt4dOi9csPUV0OgaGdKvb26cACRiR9K848QXB17xcYozuG/aK9WE3Vq8/RHn8ns6bh3O3+HunLp+gPezDDuC1edeKdSbU9bnkJygJUV6nrdwmheD/ACeFbZtH5V4m7Fndyc7zkVthYc83NmeInyxUUNo7UUV6m6ucD6h/CDXuXgv/AJFqD6V4b/APrXuXgz/kWoPpXl5p/CR6GA+I3z0P1rzL4nD99a/SvTTyD9a8z+J/E9rn0rzMB/FR6ON1ps88DFRlfWvUvh/rv2u0NjO+JIvuk9xXlueMVc0vUZNM1CK5jJ4YZ+le7iqKqRPHwtV02fQIwwLDp0pMnFVNM1GLUbCOeLowGatE5cAA18vKk1NxR9CqyauV767jsrSW4kYAKuea8P17U5dV1KWZzlRnZ9K7P4ha9yNOiOM8NivOB19hxXu5fh+RXZ4+Prc7si3pf/ITtT33ivfLfmBB/sivA9L/AOQrbf74r3y3/wBSn+6KzzDoaYAkB/nXj3j3/kYpPZa9gHX8a8f8eH/io5P92ufLPjN8x+AxNGwdYtAe8gr3eIYjA9hXgdnOIL6CXH3XBr3exuFn06GcdGQV0ZldIwy1q5YI+SvFfFrFvEFwxr2nPH615V4+0xrbVvtQB8uTvWGXSSnqdOYQcldHJDkD6UmcGjoBjrQRgc9a9573PBSEx1r0j4bFjbT5PGa84wTsAHLGvWvBOnG00guwwz81w5hUXJY9DAUm5XOnGOPY1zvjQKfDshPrXREYA9q5Px3OI9FEWcFmryMNrVVj18VpSdzzbSsf2lAf9sV7jGAYk+grw3Sv+QlAP9sV7lF/qVHsK7sxjdI4cuerHsfl+leR+MLkzeIJVPavWyDyK8e8VY/4SC4PfNZ5YtdTTNNlYxOnSjrR2o617qZ4LVgBw4HXmvZdAXGhWuO6jNeNdBk9e1eueErn7RoUWT8y8GvMzFXjc9TLn71jePXnOPalG1RwMfU0jZG3iuP8bS3toFuLaR1Tvg149GHPKx7FWp7ON2dcWUH/AOvQXHY/rXjn9u6lgE3D8980h17UCP8Aj6f869D+zZPU4JZnTjo0exb/AKfnSFwfT868d/tzUf8An5k/Op7e/wBauVLRSysB3pf2e1uwjmSbukeuhs8k/rXKePCp0dcHJDetcQ+t6mjlGuJFI6gmq91qV3eR7Z5GZc55NbYfBckrpmWIx/NBpoq0U2ivWPIuZkcrwzLNGSHU5GK+gPh14zi1nT0sZ3C3MQABY9a+es5q5pmpXWlXyXVvIVZTzg4zXDjMGsRDke5pTqcr1Prc84Pp39aRgjptZVKMMEGuD8F/EOz1u1W2u5ViuAMc967rchUHOV7MOhr4+th6mHnY9GM4yRwniT4Y6Zq7vLb/ALmVuenFeban8KtdspCIEE0Y7ivoY4I5OaTHHTiuvD5rWoq0tSXh4vU+af8AhAdfJ2iybPrWhp/wv127mXzIhEo6k19CYA6AflRjFdMs8qyVoolYWO7OA8OfDHTtJkWa6PmzjnkcV3iqkUYVVCgcACnd+aYx2bmOCo6segrza1epXd6j+RtGMICsvU8civL/AIoeLY7e1Gl2bgs3D4PStLxr8QLXSoGtbKVXnYYyO1eF315PfXklxO5ZmPc17GV5e/jnsYV6y2IWOWJ46dfeu4+GH/I0w/Q1wuBjFdx8MP8AkaY/92vaxf8ABcUctL3pHv8A2qpqX/ILuv8Ark38quen0qrqQ/4ld1/1yb+VfHw/ir1PUl8B8sT/APHzN/vmoxUtz/x8Tf75qIV9vDZHjS+IUruGD3rR0TUG07WIblTt2MM1nUKcnPenUgpQ5WSpOMj6g0y+j1DTYrmJtyuo3Grv3c+nY14z8PvG39nkaffviBzhST0r2KOaKaMPE4eIjgivkMZhJ0puSPapVVNWOO8ZeBYddU3FthbnGSR3rya98IavZykNayOBxlR1r6LB5wDTGRT/AAqfqK2w+Z1KUbMiphlPY+drPwhrN84RLJ1B7kV6t4O8EQaGgubn95cEdMdDXZqu37qKp9hS45A796qvmVWqrJFUsIo7jeB1qtf3iWFjNcuwARTjNTyyRxRGRyAi9Sa8i+IHjD7dmwsnIVT8xB61jhKMq1TVaGlerGEbI4rWb99T1Sa5c9WNUSQf5Gm/eGadX1UYcisjxJS5pXPR/hbq3kXsunyH5JB8tesr8qKPTjNfOvhvUDpuu205Py7sGvoaCVZoUkXkOMivAzOjZ8x62EqaWHPjABGSDkUrYA3Z7ZNLzTSQp56da8tK9kdz0Vzzz4m6n5OnR2KthpPmNeTBgygYxtrqfHmp/b/EUqA5WLgVy2BX1mDpctM8LEzvM9k+HeqG80Rrdj88Z4+ldoRw2Pwrxz4c6r9i1r7M/wByXpXsRDA4HT1rxMdScalz1sLNThZmR4n1EafoU8rMAdmB9TXm3w6sDfa/LeOu5U5JPrWt8TtTBMWno3uwHetfwHp40zwy11INpcbifWuminDD36s5pvnm12MH4o6mGmis43yB1ArztuNuOwrS8RX51HXLibJK7sDNZgO6vYwtNRhqcFaak9BaO1FFanP0D+EfWvcvBn/ItQfSvDf4B9a9y8G/8izb/SvMzT+Ej0MB8RvjvXmfxR/11p9K9NrzL4of660+leZgP4h6WL+A87oKlhtzwaWivpWfPrc6fw74xn0O3MBQyJ71tSfEyRgyJbBSRwc159SEVzzwsOe9jeNee1yxf3kuoXjXMxySc1W7GnY4xQehrqpxUTGcnJlrS/8AkKW3++K98t/9Sn+6K8D0v/kKW/8AvivfIP8Aj3T/AHRXiZjuergSQfe/GvHvHn/IxS/T+tewdq8e8ef8jI/+7WWV/GbZj8BzHJ+o5Fet+CNVS+0gW7v+8j4xXk3etPQ9Yk0W/ScH92TgivVxdD2sbHmUKvs53PcSQdvt1rP1XSYdVtTDOAR2PpT9N1GDUbRLiJgSRkgdquZ3DpxXz6jOjI+gTjWgeQ6n4O1Czlfy0Lwg/Lgc1mLomovIFFnJj1Ir3EBcdM+xpNiE/cXP0rvjmXu2Zwzy5c10ec+HfBE3mrdX3CjkKa9EjjWKJUiXao4xTyM8dqQtjnPPYVxVsS6uh10aKpAeAxJxjk59K8t8d6qbzUVtoyCi8nFdb4o8RxaZaPFG4aZxjg9K8mlkeeYysxLMecnpXfgcO9JM4cbiU04os6X/AMhOD/roK9yi/wBWv0FeG6V/yE7b/fFe4Rf6pfpTzJ2DLe5KfvV454q/5D9x9a9iPQ1474q/5GC4+tZZe7s1zDYxKKOwor3dTwXuIfeu48BaqsUslnM2N/3B71xFSW9zJaXCXEJ+dCDWVamqkbHRh63s53PdzkkEntiql7ZxX9o8Eq5B6Gs3w9r0GrWyAyBZwPmBrdyCuAD9a+dlCdGpc+jjOFameUaz4TvNOmZoI2kizxisM2lzGSDBID/u17kVD5yAR2zUH2O3PJhQn6V3wzC2jOGeXKTueSad4c1DUJlHlFYz3bivS9H0WDSLQRFQzEc5rUVI4xhUUD2FKdpw1c9bFym/dN6WDhTV5GJqfhiw1DOIwjt0YV53rmito1z5IkD5716hq2q2+l2rySOPMxwteSapqM2o3bzvnaTxXZgpVH8Rw472VrRKfWikFFeqeSZFJ9aWjNAPUdFPLDKJI3KMOhWu/wDDfxU1LSkSK6/fQrxzXnpo2sQBkgVjVoUqqtMuNRxPo3S/iboepKvmS+U56hq6OHXtNuEDRXkRB/2q+UCSpAUc+tTLd3URwk0g+jV49XJKUneLOmOKfU+svtlsRn7VDj13Cq0+uaZbLmS9hH/Aq+Xhq+o/dN1Jj03VDLdXEo+aZz9WrOORxT1kN4pn0NqfxH0TT0YpOJXHQCvNPEPxS1HU0khtcxRNwSO4rz8lmHIBPrmkyCoBNejSy6lSfcxliGx8s0k8heRixPOSaZ1+tHA6dKSvQei0MZPmFrtvhk6R+J42kcIMd64nrUsFxNDJ5kblGHcVFWl7Sm4oqnPkZ9Vfbbb/AJ7x8cfeqtqd5b/2Xc4mQkxNxu9q+aV1nUQcfbJfzoOr37Bg15IQRjGa8eGTqMuZs6ni9LFe6GLmYZ/iJqFelHIHJ3E96UV7UI8q3OJyuwpCM0tFU9QFBxg9wc5rtfDfxCvdGKwz5kg4H0riqME9Dg1jUoxrK0kaU6jg7n0Jp/jnR9SRGFwsbkcg8Vtx6lZSgeVdwk/71fMYfYPlzn1zUqX93F/q53H/AAKvMq5Ons7HbHHW6H0vJqNnEC0t1EAP9qsPUfHGj2EbMtwruOwrwWTULyQfvJ5CP96qxYlskn8TU0sognrImWOk9kdr4m+Id5q5a2gJii/2e9capJYliWJ6mmNjjaOacvHHevXpUoU48sUcdSpKW4BduAOnelxS0VolfQh7aCA7ZVOcYORXvXg7V4rrw/bl5VDKMEE+leDDr7VPBfXMAIineNR0APrXJisKqqszow9bkPpBryD/AJ7x/wDfVUdX1KC00mefzkZgpwA3NeAnVb7/AJ+5Pzpkmo3cibZLiRl7gmuCOUqLvc65Y1uOiC8nNzeTTk5Lsc1XxRkfw8A0tevBKKSR50puWrLmk3hstTgnBwVcc177b6taPYRzvcR5MYJBPtXzpyQRjODVk3twePOcADG3Nc2Iwftnc6KFdwWhvatOdb8X9VKeZjJPbNeh+KtRi0nwp9nt5EDFAoCnpxXjMcjRSb0yH65zT5r2e5G2eV35zgmlPC7II4i17EO4s5J6nk04e1NzlqcK7bWORO+otFFFLYenUP4cV7d4Qnhj8OW6NMgbHQmvEasR6hdxAItw4QehrnxOG9vGxtQr+ylc+hftMAH+uQ/8CrzX4mSRyyWxR1bHBANcP/ad5u/4+ZPrmop7qa4IMsjP6ZNc2Hy/2crnVWx6qKyIs0tIKWvR6nnNXCiiin1uMKPaig0DuWtLI/tO3YnA317vDc25tkxMn3R3r5+DEEFeCvNW01O82489x+NceJwqrHXh8R7Loe9faoML+9T/AL6ryHxyyt4gLKwYFe31rE/tO8AI+0yfnUEsskriSVyzdOajCYH2LvceJxjqq1htIfwpaK7zjuamj69d6NKXiclT/CTxXoek+OrG9hVLlvLk715OelNGQeCPwrlq4SFR3Z0UsVOmrI97h1SynAMd0n51K9zAq5aZPrmvBoriaL/VyOv41Ob+7ZcGdz7ZrillsW9Gd0cyklZo9mudc021jLPcrkdga5HW/HoVWisBknjdXASO7nLsW+ppmRnsBWtPLqcXdsxqY6Utixc3M13KZpnLOTnmocfNn86TPPHT1ozXoxioq0TglLmd2WtLYDUrc9hIBXt0VxD5S/vU6eteDozL8ydc5qz/AGhd4/4+JM+ma4sXhfavU7MLifYo9xM8WD+9T/vqvIfFTA6/MVIIPcGs0ajef895PzqB5DK7O5JY9zU4fCex2HXxftUJ2FFA6UV6C2OAKTGc0tFLRCaJ7S8nsLhZrdiGHb1ru9I8dpIFjvxtI7ivPD9aAoHOaxrYWNRHVRxMqZ7Zba1p12uY7lRn1qytxFg5lTHrmvDkkkTBR2H0NTm+uRx50hH1rhnlse53RzJ9UeyS6nZRKS86DHvXP6v43tLWMpa/Ow/nXmpllf70rn2JpjZPYGtIYCMddzOrmM5Kxd1HVrrV5fNnc9egqoeRjtSA8YxilrvjFRWh50puTuxuKKdRVEmKKWkFLQAUUUU07BewUUUUN3C4opaaKdSC4UUUUBZBRRRQgWgUCigUMLajhS0gpaXKuo9AoooqrLoAUUUUhAKXtTc807OaLsAoooo1DmYUUUUWHzSClHWkpRQhLzHClpAKWlYAooop2CwU09adTT1pWSC77iinU0U6iy2QncKKKKdrbMpWQUUUUWvuStwpRSUooGLRRRQFrhRRRSd2O9tAooopJNdQuuwopaaDTqonqFFFFAwooooAKavWnUgXmjTqJOS2HilpBS02osfNJbBRRRSAKKKKVk9xptbCd6eOlM704HtRyxDmYtFFFCSXQLhRRRTbvsJ6hRRRRL3h3tqhRS0gpaSVhuV1sFFFFMkKKKKAuFFFFK1wbFHSloA4padognJBRRRRothO73CiiikvMbXYKKKKYGKKWminUAFFFFABQelFFACCnjpTaUdKAFooooAKKKKACgUUCgBwpaQUtABRRRQAUUUUAIetKKQ9aUUALRRRQAUUUUAFKtJSigB4opBS0AFFFFABTT1p1FAAOtLSUtABRRRQAUUUUAFKKSigB1FFFABRRRQAUUUUAAp1IKWgAooooAKKKKAClFJSUAPFLSLS0AFFFFABRRRQAnelHWmnrTh1oAdRRRQAUUUUAFFFFACilptOFABRQaKACiiigAooooAcOlLTRTqACiiigAooooAKKKKAMQU6minUAFFFFABRRRQAUopKUUALRR2ooAKKKKACiiigBy0tNWnUAFFFFABRRRQAh60opO9KKAFooooAKKKKAClFJSigBwpaQUtABRRRQAUUUUAFKKSgEUALRRRQAUUUUAFFFFADqKKKACiiigAooooAM0uaSlFAC0UlLQAUUUUAFJilooAVadTVp1ABRRRQAUUUUAJjml6UUUAKDS0gpaACiiigAooooAKUGkoFADqKKKACiiigAooooAUUopopwoAWiiigAooooAKKKKAMQU4UwGnCgBaKKKACiiigAooooAcKKBRQAUUUUAFFFFAAKcOlNpwoAWiiigAooooAKKKKAFooooAKKKKACiiigBw6U6minUAFFFFABRRRQAh6UgpT0oFADqKKKACiiigApDS0UAOFBpBS0AFFFFABRRRQAUo6UhoBoAdRRRQAUUUUAFFFFACinCmU4UALRRRQAUUUUAFFFFACilpBS0AFFFFABRRRQAUCigUAOooooAKKKKACiiigAFOFNFOFAC0UUUAFFFFABRRRQBh04Gm0ooAdRQKKACiiigAooooAcKKBRQAUUUUAFFFFABSikpRQA6iiigAooooAKKKKAFooooAKKKKACiiigBQafTBT6ACiiigAooooAQ9KBQelIKAH0UUUAFFFFABRRRQACnU0U6gAooooAKKKKAA0CigUAOooooAKKKKACiiigApwptOHSgBaKKKACiiigAoopD0oAcKWkWlPWgAooooAKKKKACgUUCgB1FFFABRRRQAUUUUAFOBptKOtADs0UlLQAUUUUAFFFFAGHSikoBxQA8UUCigAooooAKTvS0mOaAHClpBS0AFFFFABRRRQAUopKUUAOooooAKKKKACkNLSHpQACnU0U6gAooooAKKKKACn0ynigBaKKKACiiigAoxRRQAtFFFABRRRQAUUUUAAp1NpwoAKKKKACiiigAo70Ud6AFFLSCloAKKKKACiiigApw6U2nCgBaKKKACiiigAoNFBoAVaWmg07NABRSZpaACiiigAoFFFADqKKKACiiigAooooAKUdaSlBwaAHUUmaWgAooooAKKKKAMOjvRR3oAcOlLSDpS0AFFFFABRRRQAo60tNpwoAKKKKACiiigApRSUDrQA+iiigAooooAKQ9KWkPSgAFOpop1ABRRRQAUUUUAFOBptKtADxRSCloAKKKKACiiigBaKKKACiiigAooooAKUUlKKAFooooAKKKKACgUUUAOoptLQAtFFFABRRRQAU4U2jvQA+iiigAooooAKQ9KWkPSgBRS9qYOlPHSgAFLRRQAUUUUAFFFFACjpS0g6UtABRRRQAUUUUAFFFFACinU0U6gAooooAKKKKAMOiiigBwpaQUtABRRRQAUUUUAFKDSUooAWiiigAooooAKKKKAHZpaSlFABRRRQAUh6UtIelAAKdTRTqACiiigAooooAKVaSlWgBwpaQUtABRRRQAUUUUAJupQc009acKAFooooAKKKKAClFJQKAHUUdqKACiiigAooooABS4oHWloAKKKKACiiigAooooAfmikFLQAUUUUAFBGRRRQAmKcDSUUAOooooAKKKKACiiigBRS0gp3agBKKKKACiiigAooooAUU6minUAFFFFABRRRQBh0d6KKAFFOplPoAKKKKACiiigApRSUooAWiiigAooooAKKKKAAU8UwU8UAFFFFABRRRQAUtJS0AFFFFABRRRQAUq0lANADxS0gNFAC0UUUAFFFFADT1pwpp604UALRRRQAUUUUAFFFFACilpBS0AFFFFABRRRQAUopKUUALRRRQAUUUUAFFFFACinCminCgAooooAKKKKACk70tN70APFLSCloAKKKKACiiigApRSUooAWiiigAooooAKKKKAFFOpmadmgBaKKKACiiigDDooooAKcKbThQAtFFFABRRRQAUopKUUALRRRQAUUUUAFFFFAAKeKYKeKACiiigAooooAKWkoFAC0UdqKACiiigAoFFFADhS0i9KcOlABRRRQAUUUUANPWnCmnrThQAtFFFABRRRQAUUUUAKKWkFLQAUUUUAFFFFABSikoFADqKKKACiiigAooooAUU4U0U4UAFFFFABRRRQAUnelooAUUtFFABRRRQAUUUUAFKKSlFAC0UUUAFFFFABRRRQAU6m08dKAAUUUUAFFFFAGHRRRQAU4U2nA0ALRRRQAUUUUAFFFFADqKQUtABRRRQAUUUUAAp4pgNOFAC0UUUAFFFFABSZ5paTvQA7NFIKWgAooooAKKKKAHL0pw6UxaeDQAUUUUAFFFFACYpRRRQAtFFFABRRRQAUUUUAKKWkBpaACiiigAooooAKUCkpQaAFooooAKKKKACiiigBRThTRSigBaKKKACiiigApO9LSd6AHClpBS0AFFFFABRRRQAUoNJR3oAdRRRQAUUUUAFFFFABTgabSg0AOooooAKKKKAMOiiigApV60lKKAHUUUUAFFFFABRRRQAope1Np1ABRRRQAUUUUAIKeOlNpy9KAFooooAKKKKACk70tJ3oAUUtIKWgAooooAKKKKAFFOFMp4oAWiiigAooooAKKKQ9KAHCimg06gAooooAKKKKACnU2nCgAooooAKKKKACiiigB3aikFLQAUUUUAFFFFABTl6U2nL0oAWiiigAooooAKKKKAFFLTaUUALRRRQAUUUUAFHeikHWgB9FAooAKKKKACiiigAoFFAoAcKWkFLQAUUUUAYdFFFABSg0lAoAcKWkHSloAKKKKACiiigAp1Np1ABRRRQAUUUUAFKDSUooAdRRRQAUUUUAFJ3paTvQAopaQUtABRRRQAUUUUAHenimd6eKAFooooAKKKKACkPSlpD0oABTqaKdQAUUUUAFFFFABSg0lKKAFooooAKKKKACiiigAFOpop1ABRRRQAUUUUAFKtJSigB1FAooAKKKKACiiigApRSUooAWiiigAooooAKTHNLRQAoNLSCloAKKKKACiiigAoFFAoAcKWkFLQAUUUUAYdFFFABRRRQA4dKWiigAooooAKKKKACnUUUAFFFFABRRRQAUUUUAOFLRRQAUUUUAFFFFABS0UUAFFFFABRRRQAU4UUUAOooooAKKKKACkPSiigAFOoooAKKKKACiiigApRRRQAtFFFABRRRQAUUUUAAp1FFABRRRQAUUUUAFFFFADqWiigAooooAKKKKAENKtFFADqKKKACiiigAooooAUUtFFABRRRQAUUUUAFAoooAcKWiigAooooA//9k=)"
      ]
    },
    {
      "cell_type": "markdown",
      "metadata": {
        "id": "-kihBFwxdKQH"
      },
      "source": [
        "This particular ML project is usually referred to as the “Hello World” of Machine Learning. The iris flowers dataset contains numeric attributes, and it is perfect for beginners to learn about supervised ML algorithms, mainly how to load and handle data. Also, since this is a small dataset, it can easily fit in memory without requiring special transformations or scaling capabilities."
      ]
    },
    {
      "cell_type": "markdown",
      "metadata": {
        "id": "qnfBIU3JdUeR"
      },
      "source": [
        "##Import libraries "
      ]
    },
    {
      "cell_type": "code",
      "metadata": {
        "id": "Q-0MeiS8wkmO"
      },
      "source": [
        "import pandas as pd\n",
        "import numpy as np\n",
        "import os\n",
        "import matplotlib.pyplot as plt\n",
        "import seaborn as sns\n"
      ],
      "execution_count": 1,
      "outputs": []
    },
    {
      "cell_type": "markdown",
      "metadata": {
        "id": "GacHfBtYdoX2"
      },
      "source": [
        "##Load dataset and view few samples of the data"
      ]
    },
    {
      "cell_type": "code",
      "metadata": {
        "colab": {
          "base_uri": "https://localhost:8080/",
          "height": 203
        },
        "id": "lmYduedSEmnc",
        "outputId": "24908349-62f5-4d5a-b2e3-69da1b0e25c5"
      },
      "source": [
        "df=pd.read_csv('/content/iris (2).csv')\n",
        "df.head()"
      ],
      "execution_count": 2,
      "outputs": [
        {
          "output_type": "execute_result",
          "data": {
            "text/html": [
              "<div>\n",
              "<style scoped>\n",
              "    .dataframe tbody tr th:only-of-type {\n",
              "        vertical-align: middle;\n",
              "    }\n",
              "\n",
              "    .dataframe tbody tr th {\n",
              "        vertical-align: top;\n",
              "    }\n",
              "\n",
              "    .dataframe thead th {\n",
              "        text-align: right;\n",
              "    }\n",
              "</style>\n",
              "<table border=\"1\" class=\"dataframe\">\n",
              "  <thead>\n",
              "    <tr style=\"text-align: right;\">\n",
              "      <th></th>\n",
              "      <th>SepalLengthCm</th>\n",
              "      <th>SepalWidthCm</th>\n",
              "      <th>PetalLengthCm</th>\n",
              "      <th>PetalWidthCm</th>\n",
              "      <th>Species</th>\n",
              "    </tr>\n",
              "  </thead>\n",
              "  <tbody>\n",
              "    <tr>\n",
              "      <th>0</th>\n",
              "      <td>5.1</td>\n",
              "      <td>3.5</td>\n",
              "      <td>1.4</td>\n",
              "      <td>0.2</td>\n",
              "      <td>Iris-setosa</td>\n",
              "    </tr>\n",
              "    <tr>\n",
              "      <th>1</th>\n",
              "      <td>4.9</td>\n",
              "      <td>3.0</td>\n",
              "      <td>1.4</td>\n",
              "      <td>0.2</td>\n",
              "      <td>Iris-setosa</td>\n",
              "    </tr>\n",
              "    <tr>\n",
              "      <th>2</th>\n",
              "      <td>4.7</td>\n",
              "      <td>3.2</td>\n",
              "      <td>1.3</td>\n",
              "      <td>0.2</td>\n",
              "      <td>Iris-setosa</td>\n",
              "    </tr>\n",
              "    <tr>\n",
              "      <th>3</th>\n",
              "      <td>4.6</td>\n",
              "      <td>3.1</td>\n",
              "      <td>1.5</td>\n",
              "      <td>0.2</td>\n",
              "      <td>Iris-setosa</td>\n",
              "    </tr>\n",
              "    <tr>\n",
              "      <th>4</th>\n",
              "      <td>5.0</td>\n",
              "      <td>3.6</td>\n",
              "      <td>1.4</td>\n",
              "      <td>0.2</td>\n",
              "      <td>Iris-setosa</td>\n",
              "    </tr>\n",
              "  </tbody>\n",
              "</table>\n",
              "</div>"
            ],
            "text/plain": [
              "   SepalLengthCm  SepalWidthCm  PetalLengthCm  PetalWidthCm      Species\n",
              "0            5.1           3.5            1.4           0.2  Iris-setosa\n",
              "1            4.9           3.0            1.4           0.2  Iris-setosa\n",
              "2            4.7           3.2            1.3           0.2  Iris-setosa\n",
              "3            4.6           3.1            1.5           0.2  Iris-setosa\n",
              "4            5.0           3.6            1.4           0.2  Iris-setosa"
            ]
          },
          "metadata": {},
          "execution_count": 2
        }
      ]
    },
    {
      "cell_type": "markdown",
      "metadata": {
        "id": "hENrtqjTd5r5"
      },
      "source": [
        "##View data description"
      ]
    },
    {
      "cell_type": "code",
      "metadata": {
        "colab": {
          "base_uri": "https://localhost:8080/",
          "height": 295
        },
        "id": "gwRG8-rhGDpO",
        "outputId": "6a96416d-7225-4fbf-c46b-f15633932d44"
      },
      "source": [
        "df.describe()"
      ],
      "execution_count": 3,
      "outputs": [
        {
          "output_type": "execute_result",
          "data": {
            "text/html": [
              "<div>\n",
              "<style scoped>\n",
              "    .dataframe tbody tr th:only-of-type {\n",
              "        vertical-align: middle;\n",
              "    }\n",
              "\n",
              "    .dataframe tbody tr th {\n",
              "        vertical-align: top;\n",
              "    }\n",
              "\n",
              "    .dataframe thead th {\n",
              "        text-align: right;\n",
              "    }\n",
              "</style>\n",
              "<table border=\"1\" class=\"dataframe\">\n",
              "  <thead>\n",
              "    <tr style=\"text-align: right;\">\n",
              "      <th></th>\n",
              "      <th>SepalLengthCm</th>\n",
              "      <th>SepalWidthCm</th>\n",
              "      <th>PetalLengthCm</th>\n",
              "      <th>PetalWidthCm</th>\n",
              "    </tr>\n",
              "  </thead>\n",
              "  <tbody>\n",
              "    <tr>\n",
              "      <th>count</th>\n",
              "      <td>150.000000</td>\n",
              "      <td>150.000000</td>\n",
              "      <td>150.000000</td>\n",
              "      <td>150.000000</td>\n",
              "    </tr>\n",
              "    <tr>\n",
              "      <th>mean</th>\n",
              "      <td>5.843333</td>\n",
              "      <td>3.054000</td>\n",
              "      <td>3.758667</td>\n",
              "      <td>1.198667</td>\n",
              "    </tr>\n",
              "    <tr>\n",
              "      <th>std</th>\n",
              "      <td>0.828066</td>\n",
              "      <td>0.433594</td>\n",
              "      <td>1.764420</td>\n",
              "      <td>0.763161</td>\n",
              "    </tr>\n",
              "    <tr>\n",
              "      <th>min</th>\n",
              "      <td>4.300000</td>\n",
              "      <td>2.000000</td>\n",
              "      <td>1.000000</td>\n",
              "      <td>0.100000</td>\n",
              "    </tr>\n",
              "    <tr>\n",
              "      <th>25%</th>\n",
              "      <td>5.100000</td>\n",
              "      <td>2.800000</td>\n",
              "      <td>1.600000</td>\n",
              "      <td>0.300000</td>\n",
              "    </tr>\n",
              "    <tr>\n",
              "      <th>50%</th>\n",
              "      <td>5.800000</td>\n",
              "      <td>3.000000</td>\n",
              "      <td>4.350000</td>\n",
              "      <td>1.300000</td>\n",
              "    </tr>\n",
              "    <tr>\n",
              "      <th>75%</th>\n",
              "      <td>6.400000</td>\n",
              "      <td>3.300000</td>\n",
              "      <td>5.100000</td>\n",
              "      <td>1.800000</td>\n",
              "    </tr>\n",
              "    <tr>\n",
              "      <th>max</th>\n",
              "      <td>7.900000</td>\n",
              "      <td>4.400000</td>\n",
              "      <td>6.900000</td>\n",
              "      <td>2.500000</td>\n",
              "    </tr>\n",
              "  </tbody>\n",
              "</table>\n",
              "</div>"
            ],
            "text/plain": [
              "       SepalLengthCm  SepalWidthCm  PetalLengthCm  PetalWidthCm\n",
              "count     150.000000    150.000000     150.000000    150.000000\n",
              "mean        5.843333      3.054000       3.758667      1.198667\n",
              "std         0.828066      0.433594       1.764420      0.763161\n",
              "min         4.300000      2.000000       1.000000      0.100000\n",
              "25%         5.100000      2.800000       1.600000      0.300000\n",
              "50%         5.800000      3.000000       4.350000      1.300000\n",
              "75%         6.400000      3.300000       5.100000      1.800000\n",
              "max         7.900000      4.400000       6.900000      2.500000"
            ]
          },
          "metadata": {},
          "execution_count": 3
        }
      ]
    },
    {
      "cell_type": "markdown",
      "metadata": {
        "id": "grsKIsTkeCTy"
      },
      "source": [
        "##View data structure"
      ]
    },
    {
      "cell_type": "code",
      "metadata": {
        "colab": {
          "base_uri": "https://localhost:8080/"
        },
        "id": "wdWCrjrSofTc",
        "outputId": "e58f4394-3f91-4aaa-a913-5d962bc8c795"
      },
      "source": [
        "df.info()"
      ],
      "execution_count": 4,
      "outputs": [
        {
          "output_type": "stream",
          "name": "stdout",
          "text": [
            "<class 'pandas.core.frame.DataFrame'>\n",
            "RangeIndex: 150 entries, 0 to 149\n",
            "Data columns (total 5 columns):\n",
            " #   Column         Non-Null Count  Dtype  \n",
            "---  ------         --------------  -----  \n",
            " 0   SepalLengthCm  150 non-null    float64\n",
            " 1   SepalWidthCm   150 non-null    float64\n",
            " 2   PetalLengthCm  150 non-null    float64\n",
            " 3   PetalWidthCm   150 non-null    float64\n",
            " 4   Species        150 non-null    object \n",
            "dtypes: float64(4), object(1)\n",
            "memory usage: 6.0+ KB\n"
          ]
        }
      ]
    },
    {
      "cell_type": "markdown",
      "metadata": {
        "id": "DYoMxKO1ePh-"
      },
      "source": [
        "##Count the number of samples of each class"
      ]
    },
    {
      "cell_type": "code",
      "metadata": {
        "colab": {
          "base_uri": "https://localhost:8080/"
        },
        "id": "dYoiHdDZpAVq",
        "outputId": "eafdd64d-b73f-4a9a-d187-09221154518e"
      },
      "source": [
        "df['Species'].value_counts()"
      ],
      "execution_count": 5,
      "outputs": [
        {
          "output_type": "execute_result",
          "data": {
            "text/plain": [
              "Iris-setosa        50\n",
              "Iris-virginica     50\n",
              "Iris-versicolor    50\n",
              "Name: Species, dtype: int64"
            ]
          },
          "metadata": {},
          "execution_count": 5
        }
      ]
    },
    {
      "cell_type": "markdown",
      "metadata": {
        "id": "2RaPU7Y8eXbn"
      },
      "source": [
        "##Check for the presence of missing values"
      ]
    },
    {
      "cell_type": "code",
      "metadata": {
        "colab": {
          "base_uri": "https://localhost:8080/"
        },
        "id": "-BwJv291qWss",
        "outputId": "66613c43-728d-47d9-a7d1-858e75bd584d"
      },
      "source": [
        "df.isnull().sum()"
      ],
      "execution_count": 6,
      "outputs": [
        {
          "output_type": "execute_result",
          "data": {
            "text/plain": [
              "SepalLengthCm    0\n",
              "SepalWidthCm     0\n",
              "PetalLengthCm    0\n",
              "PetalWidthCm     0\n",
              "Species          0\n",
              "dtype: int64"
            ]
          },
          "metadata": {},
          "execution_count": 6
        }
      ]
    },
    {
      "cell_type": "markdown",
      "metadata": {
        "id": "ZVXH3YuHee1c"
      },
      "source": [
        "##Plot histograms for each attribute to visualize the data"
      ]
    },
    {
      "cell_type": "code",
      "metadata": {
        "colab": {
          "base_uri": "https://localhost:8080/",
          "height": 282
        },
        "id": "Dh2KMWd_quNA",
        "outputId": "80fa8811-cc86-46b9-8a09-c1aeb1c8b819"
      },
      "source": [
        "df['SepalLengthCm'].hist()"
      ],
      "execution_count": 7,
      "outputs": [
        {
          "output_type": "execute_result",
          "data": {
            "text/plain": [
              "<matplotlib.axes._subplots.AxesSubplot at 0x7f7ffd6e5190>"
            ]
          },
          "metadata": {},
          "execution_count": 7
        },
        {
          "output_type": "display_data",
          "data": {
            "image/png": "[encoded data removed]",
            "text/plain": [
              "<Figure size 432x288 with 1 Axes>"
            ]
          },
          "metadata": {
            "needs_background": "light"
          }
        }
      ]
    },
    {
      "cell_type": "code",
      "metadata": {
        "colab": {
          "base_uri": "https://localhost:8080/",
          "height": 282
        },
        "id": "hL8EPDiAtfTO",
        "outputId": "ea129b2f-0dc0-4363-dc43-08726f525407"
      },
      "source": [
        "df['SepalWidthCm'].hist()"
      ],
      "execution_count": 8,
      "outputs": [
        {
          "output_type": "execute_result",
          "data": {
            "text/plain": [
              "<matplotlib.axes._subplots.AxesSubplot at 0x7f7ffd70a1d0>"
            ]
          },
          "metadata": {},
          "execution_count": 8
        },
        {
          "output_type": "display_data",
          "data": {
            "image/png": "[encoded data removed]",
            "text/plain": [
              "<Figure size 432x288 with 1 Axes>"
            ]
          },
          "metadata": {
            "needs_background": "light"
          }
        }
      ]
    },
    {
      "cell_type": "code",
      "metadata": {
        "colab": {
          "base_uri": "https://localhost:8080/",
          "height": 282
        },
        "id": "jWyJoQwgttFz",
        "outputId": "0c7a2dcc-9cfa-473a-8fff-0c499dff52e8"
      },
      "source": [
        "df['PetalLengthCm'].hist()"
      ],
      "execution_count": 9,
      "outputs": [
        {
          "output_type": "execute_result",
          "data": {
            "text/plain": [
              "<matplotlib.axes._subplots.AxesSubplot at 0x7f7ffc8e03d0>"
            ]
          },
          "metadata": {},
          "execution_count": 9
        },
        {
          "output_type": "display_data",
          "data": {
            "image/png": "[encoded data removed]",
            "text/plain": [
              "<Figure size 432x288 with 1 Axes>"
            ]
          },
          "metadata": {
            "needs_background": "light"
          }
        }
      ]
    },
    {
      "cell_type": "code",
      "metadata": {
        "colab": {
          "base_uri": "https://localhost:8080/",
          "height": 282
        },
        "id": "B6YA5UfBtz7c",
        "outputId": "2605f090-ed0d-4bab-9c3e-d0920e2709fa"
      },
      "source": [
        "df['PetalWidthCm'].hist()"
      ],
      "execution_count": 10,
      "outputs": [
        {
          "output_type": "execute_result",
          "data": {
            "text/plain": [
              "<matplotlib.axes._subplots.AxesSubplot at 0x7f7ffc7f0f90>"
            ]
          },
          "metadata": {},
          "execution_count": 10
        },
        {
          "output_type": "display_data",
          "data": {
            "image/png": "[encoded data removed]",
            "text/plain": [
              "<Figure size 432x288 with 1 Axes>"
            ]
          },
          "metadata": {
            "needs_background": "light"
          }
        }
      ]
    },
    {
      "cell_type": "markdown",
      "metadata": {
        "id": "KGmhYlGDeqPy"
      },
      "source": [
        "##Plot scatter plot on the data"
      ]
    },
    {
      "cell_type": "code",
      "metadata": {
        "id": "-T4o-fm_umGT"
      },
      "source": [
        "colours=['red','orange','blue']\n",
        "species=['Iris-versicolor','Iris-virginica' ,'Iris-setosa' ]"
      ],
      "execution_count": 11,
      "outputs": []
    },
    {
      "cell_type": "code",
      "metadata": {
        "colab": {
          "base_uri": "https://localhost:8080/",
          "height": 282
        },
        "id": "i54PVn-6YOy-",
        "outputId": "4b8dbddd-b9f7-41ff-ab87-403a25733afd"
      },
      "source": [
        "for i in range(3):\n",
        "    x = df[df['Species'] == species[i]]\n",
        "    plt.scatter(x['SepalLengthCm'],x['SepalWidthCm'],c = colours[i],label=species[i])\n",
        "    plt.xlabel(\"SepalLengthCm\")\n",
        "    plt.ylabel(\"SepalWidthCm\")\n",
        "    plt.legend()"
      ],
      "execution_count": 12,
      "outputs": [
        {
          "output_type": "display_data",
          "data": {
            "image/png": "[encoded data removed]",
            "text/plain": [
              "<Figure size 432x288 with 1 Axes>"
            ]
          },
          "metadata": {
            "needs_background": "light"
          }
        }
      ]
    },
    {
      "cell_type": "markdown",
      "metadata": {
        "id": "mMQJfBuDezTm"
      },
      "source": [
        "##Find the data corelation value and visualize it"
      ]
    },
    {
      "cell_type": "code",
      "metadata": {
        "id": "L7fSeEtnM5JE",
        "colab": {
          "base_uri": "https://localhost:8080/",
          "height": 172
        },
        "outputId": "8585def1-3f32-4790-8cd5-e6d3340dda20"
      },
      "source": [
        "df.corr()"
      ],
      "execution_count": 13,
      "outputs": [
        {
          "output_type": "execute_result",
          "data": {
            "text/html": [
              "<div>\n",
              "<style scoped>\n",
              "    .dataframe tbody tr th:only-of-type {\n",
              "        vertical-align: middle;\n",
              "    }\n",
              "\n",
              "    .dataframe tbody tr th {\n",
              "        vertical-align: top;\n",
              "    }\n",
              "\n",
              "    .dataframe thead th {\n",
              "        text-align: right;\n",
              "    }\n",
              "</style>\n",
              "<table border=\"1\" class=\"dataframe\">\n",
              "  <thead>\n",
              "    <tr style=\"text-align: right;\">\n",
              "      <th></th>\n",
              "      <th>SepalLengthCm</th>\n",
              "      <th>SepalWidthCm</th>\n",
              "      <th>PetalLengthCm</th>\n",
              "      <th>PetalWidthCm</th>\n",
              "    </tr>\n",
              "  </thead>\n",
              "  <tbody>\n",
              "    <tr>\n",
              "      <th>SepalLengthCm</th>\n",
              "      <td>1.000000</td>\n",
              "      <td>-0.109369</td>\n",
              "      <td>0.871754</td>\n",
              "      <td>0.817954</td>\n",
              "    </tr>\n",
              "    <tr>\n",
              "      <th>SepalWidthCm</th>\n",
              "      <td>-0.109369</td>\n",
              "      <td>1.000000</td>\n",
              "      <td>-0.420516</td>\n",
              "      <td>-0.356544</td>\n",
              "    </tr>\n",
              "    <tr>\n",
              "      <th>PetalLengthCm</th>\n",
              "      <td>0.871754</td>\n",
              "      <td>-0.420516</td>\n",
              "      <td>1.000000</td>\n",
              "      <td>0.962757</td>\n",
              "    </tr>\n",
              "    <tr>\n",
              "      <th>PetalWidthCm</th>\n",
              "      <td>0.817954</td>\n",
              "      <td>-0.356544</td>\n",
              "      <td>0.962757</td>\n",
              "      <td>1.000000</td>\n",
              "    </tr>\n",
              "  </tbody>\n",
              "</table>\n",
              "</div>"
            ],
            "text/plain": [
              "               SepalLengthCm  SepalWidthCm  PetalLengthCm  PetalWidthCm\n",
              "SepalLengthCm       1.000000     -0.109369       0.871754      0.817954\n",
              "SepalWidthCm       -0.109369      1.000000      -0.420516     -0.356544\n",
              "PetalLengthCm       0.871754     -0.420516       1.000000      0.962757\n",
              "PetalWidthCm        0.817954     -0.356544       0.962757      1.000000"
            ]
          },
          "metadata": {},
          "execution_count": 13
        }
      ]
    },
    {
      "cell_type": "code",
      "metadata": {
        "colab": {
          "base_uri": "https://localhost:8080/",
          "height": 613
        },
        "id": "9uDpd0rLsqEn",
        "outputId": "af8124d4-3f06-41af-af23-81728563226e"
      },
      "source": [
        "corr=df.corr()\n",
        "fig,ax =plt.subplots(figsize=(10,10))\n",
        "sns.heatmap(corr,annot=True,ax=ax)"
      ],
      "execution_count": 14,
      "outputs": [
        {
          "output_type": "execute_result",
          "data": {
            "text/plain": [
              "<matplotlib.axes._subplots.AxesSubplot at 0x7f7ffc7ef610>"
            ]
          },
          "metadata": {},
          "execution_count": 14
        },
        {
          "output_type": "display_data",
          "data": {
            "image/png": "[encoded data removed]",
            "text/plain": [
              "<Figure size 720x720 with 2 Axes>"
            ]
          },
          "metadata": {
            "needs_background": "light"
          }
        }
      ]
    },
    {
      "cell_type": "markdown",
      "metadata": {
        "id": "3MyfD3ACfFAd"
      },
      "source": [
        "##Import Library to encode class label (Categorical value) to Numerical value and encode attribute \"Species\" to numerical value\n"
      ]
    },
    {
      "cell_type": "code",
      "metadata": {
        "colab": {
          "base_uri": "https://localhost:8080/",
          "height": 203
        },
        "id": "9wxRAfK2tiKo",
        "outputId": "bc9d9743-c2f8-4e9a-b6f5-51a4bf71949e"
      },
      "source": [
        "from sklearn.preprocessing import LabelEncoder\n",
        "le=LabelEncoder()\n",
        "df['Species']=le.fit_transform(df['Species'])\n",
        "df.head()\n"
      ],
      "execution_count": 15,
      "outputs": [
        {
          "output_type": "execute_result",
          "data": {
            "text/html": [
              "<div>\n",
              "<style scoped>\n",
              "    .dataframe tbody tr th:only-of-type {\n",
              "        vertical-align: middle;\n",
              "    }\n",
              "\n",
              "    .dataframe tbody tr th {\n",
              "        vertical-align: top;\n",
              "    }\n",
              "\n",
              "    .dataframe thead th {\n",
              "        text-align: right;\n",
              "    }\n",
              "</style>\n",
              "<table border=\"1\" class=\"dataframe\">\n",
              "  <thead>\n",
              "    <tr style=\"text-align: right;\">\n",
              "      <th></th>\n",
              "      <th>SepalLengthCm</th>\n",
              "      <th>SepalWidthCm</th>\n",
              "      <th>PetalLengthCm</th>\n",
              "      <th>PetalWidthCm</th>\n",
              "      <th>Species</th>\n",
              "    </tr>\n",
              "  </thead>\n",
              "  <tbody>\n",
              "    <tr>\n",
              "      <th>0</th>\n",
              "      <td>5.1</td>\n",
              "      <td>3.5</td>\n",
              "      <td>1.4</td>\n",
              "      <td>0.2</td>\n",
              "      <td>0</td>\n",
              "    </tr>\n",
              "    <tr>\n",
              "      <th>1</th>\n",
              "      <td>4.9</td>\n",
              "      <td>3.0</td>\n",
              "      <td>1.4</td>\n",
              "      <td>0.2</td>\n",
              "      <td>0</td>\n",
              "    </tr>\n",
              "    <tr>\n",
              "      <th>2</th>\n",
              "      <td>4.7</td>\n",
              "      <td>3.2</td>\n",
              "      <td>1.3</td>\n",
              "      <td>0.2</td>\n",
              "      <td>0</td>\n",
              "    </tr>\n",
              "    <tr>\n",
              "      <th>3</th>\n",
              "      <td>4.6</td>\n",
              "      <td>3.1</td>\n",
              "      <td>1.5</td>\n",
              "      <td>0.2</td>\n",
              "      <td>0</td>\n",
              "    </tr>\n",
              "    <tr>\n",
              "      <th>4</th>\n",
              "      <td>5.0</td>\n",
              "      <td>3.6</td>\n",
              "      <td>1.4</td>\n",
              "      <td>0.2</td>\n",
              "      <td>0</td>\n",
              "    </tr>\n",
              "  </tbody>\n",
              "</table>\n",
              "</div>"
            ],
            "text/plain": [
              "   SepalLengthCm  SepalWidthCm  PetalLengthCm  PetalWidthCm  Species\n",
              "0            5.1           3.5            1.4           0.2        0\n",
              "1            4.9           3.0            1.4           0.2        0\n",
              "2            4.7           3.2            1.3           0.2        0\n",
              "3            4.6           3.1            1.5           0.2        0\n",
              "4            5.0           3.6            1.4           0.2        0"
            ]
          },
          "metadata": {},
          "execution_count": 15
        }
      ]
    },
    {
      "cell_type": "markdown",
      "metadata": {
        "id": "kYufsa5kgBxd"
      },
      "source": [
        "##Import library to split the data into train and test data"
      ]
    },
    {
      "cell_type": "code",
      "metadata": {
        "id": "o_XfMX2mzxMr"
      },
      "source": [
        "from sklearn.model_selection import train_test_split\n",
        "#train - 70\n",
        "#test - 30\n",
        "X=df.drop(columns=['Species'])\n",
        "Y=df['Species']\n",
        "x_train,x_test,y_train,y_test=train_test_split(X,Y,test_size=0.30)"
      ],
      "execution_count": 16,
      "outputs": []
    },
    {
      "cell_type": "markdown",
      "metadata": {
        "id": "EvSvLrKrgI7n"
      },
      "source": [
        "##Use logistic regression approach to fit the data and check accuracy value"
      ]
    },
    {
      "cell_type": "code",
      "metadata": {
        "id": "fNOru-OY2iVM"
      },
      "source": [
        "from sklearn.linear_model import LogisticRegression\n",
        "model= LogisticRegression()\n",
        "\n",
        "\n"
      ],
      "execution_count": 17,
      "outputs": []
    },
    {
      "cell_type": "code",
      "metadata": {
        "colab": {
          "base_uri": "https://localhost:8080/"
        },
        "id": "DcMbmRbJ24Da",
        "outputId": "4f1f35bb-ea04-4ef1-ce8e-93baa37afe3f"
      },
      "source": [
        "model.fit(x_train,y_train)"
      ],
      "execution_count": 18,
      "outputs": [
        {
          "output_type": "execute_result",
          "data": {
            "text/plain": [
              "LogisticRegression(C=1.0, class_weight=None, dual=False, fit_intercept=True,\n",
              "                   intercept_scaling=1, l1_ratio=None, max_iter=100,\n",
              "                   multi_class='auto', n_jobs=None, penalty='l2',\n",
              "                   random_state=None, solver='lbfgs', tol=0.0001, verbose=0,\n",
              "                   warm_start=False)"
            ]
          },
          "metadata": {},
          "execution_count": 18
        }
      ]
    },
    {
      "cell_type": "code",
      "metadata": {
        "colab": {
          "base_uri": "https://localhost:8080/"
        },
        "id": "SG46eDQI5BPy",
        "outputId": "bd922a3d-fb97-440d-f5b6-b1c564cbbc09"
      },
      "source": [
        "print(\"Accuracy:\",model.score(x_test, y_test)*100)"
      ],
      "execution_count": 19,
      "outputs": [
        {
          "output_type": "stream",
          "name": "stdout",
          "text": [
            "Accuracy: 93.33333333333333\n"
          ]
        }
      ]
    },
    {
      "cell_type": "markdown",
      "metadata": {
        "id": "rz2T6n3fgSkX"
      },
      "source": [
        "## Use K-NearestNeighbor Approach to fit the data and check the accuracy value\n"
      ]
    },
    {
      "cell_type": "code",
      "metadata": {
        "id": "0R_5IKnw_jq7",
        "colab": {
          "base_uri": "https://localhost:8080/"
        },
        "outputId": "8d87cc85-a568-4bdb-e42f-e8f8bd8245c6"
      },
      "source": [
        "from sklearn.neighbors import KNeighborsClassifier\n",
        "model = KNeighborsClassifier()\n",
        "model.fit(x_train,y_train)\n"
      ],
      "execution_count": 20,
      "outputs": [
        {
          "output_type": "execute_result",
          "data": {
            "text/plain": [
              "KNeighborsClassifier(algorithm='auto', leaf_size=30, metric='minkowski',\n",
              "                     metric_params=None, n_jobs=None, n_neighbors=5, p=2,\n",
              "                     weights='uniform')"
            ]
          },
          "metadata": {},
          "execution_count": 20
        }
      ]
    },
    {
      "cell_type": "code",
      "metadata": {
        "colab": {
          "base_uri": "https://localhost:8080/"
        },
        "id": "Mwnmg08iDDOV",
        "outputId": "41eb005c-828f-4f68-84de-d1011d32aa90"
      },
      "source": [
        "KNeighborsClassifier(algorithm='auto',leaf_size=30,metric='minkowski',metric_params=None,n_jobs=None,n_neighbors=5,p=2,weights='uniform')"
      ],
      "execution_count": 21,
      "outputs": [
        {
          "output_type": "execute_result",
          "data": {
            "text/plain": [
              "KNeighborsClassifier(algorithm='auto', leaf_size=30, metric='minkowski',\n",
              "                     metric_params=None, n_jobs=None, n_neighbors=5, p=2,\n",
              "                     weights='uniform')"
            ]
          },
          "metadata": {},
          "execution_count": 21
        }
      ]
    },
    {
      "cell_type": "code",
      "metadata": {
        "colab": {
          "base_uri": "https://localhost:8080/"
        },
        "id": "e7aONPhRENPh",
        "outputId": "db38b436-baa3-4282-bac5-3f1caec70eb8"
      },
      "source": [
        "print(\"Accuracy: \",model.score(x_test,y_test)* 100)"
      ],
      "execution_count": 22,
      "outputs": [
        {
          "output_type": "stream",
          "name": "stdout",
          "text": [
            "Accuracy:  93.33333333333333\n"
          ]
        }
      ]
    },
    {
      "cell_type": "markdown",
      "metadata": {
        "id": "O3ErVbg3gqMJ"
      },
      "source": [
        "## Use Decision-tree Approach to fit the data and check the accuracy value"
      ]
    },
    {
      "cell_type": "code",
      "metadata": {
        "id": "9AGDVoYJFgPv"
      },
      "source": [
        "from sklearn.tree import DecisionTreeClassifier\n",
        "model = DecisionTreeClassifier()"
      ],
      "execution_count": 23,
      "outputs": []
    },
    {
      "cell_type": "code",
      "metadata": {
        "colab": {
          "base_uri": "https://localhost:8080/"
        },
        "id": "2cnL8BznGR7B",
        "outputId": "9db38d81-1e29-41a8-c21f-b148c0746693"
      },
      "source": [
        "model.fit(x_train,y_train)"
      ],
      "execution_count": 24,
      "outputs": [
        {
          "output_type": "execute_result",
          "data": {
            "text/plain": [
              "DecisionTreeClassifier(ccp_alpha=0.0, class_weight=None, criterion='gini',\n",
              "                       max_depth=None, max_features=None, max_leaf_nodes=None,\n",
              "                       min_impurity_decrease=0.0, min_impurity_split=None,\n",
              "                       min_samples_leaf=1, min_samples_split=2,\n",
              "                       min_weight_fraction_leaf=0.0, presort='deprecated',\n",
              "                       random_state=None, splitter='best')"
            ]
          },
          "metadata": {},
          "execution_count": 24
        }
      ]
    },
    {
      "cell_type": "code",
      "metadata": {
        "colab": {
          "base_uri": "https://localhost:8080/"
        },
        "id": "yoUNHJtDGexT",
        "outputId": "8ac10517-e327-4458-da5f-b87b5ea5615f"
      },
      "source": [
        "print(\"Accuracy: \",model.score(x_test,y_test)* 100)"
      ],
      "execution_count": 25,
      "outputs": [
        {
          "output_type": "stream",
          "name": "stdout",
          "text": [
            "Accuracy:  93.33333333333333\n"
          ]
        }
      ]
    },
    {
      "cell_type": "markdown",
      "metadata": {
        "id": "TumDjA5YgysV"
      },
      "source": [
        "##Since we have obtained an accuracy value of 93.3% using logistic regression and Decision tree classifier already and it is also not a very good approach to train our model for 100% accuracy as it will susceptible to outliers. So we can stop training our model further."
      ]
    }
  ]
}